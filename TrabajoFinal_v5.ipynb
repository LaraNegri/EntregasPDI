{
  "nbformat": 4,
  "nbformat_minor": 0,
  "metadata": {
    "colab": {
      "name": "TrabajoFinal_v5.ipynb",
      "provenance": [],
      "authorship_tag": "ABX9TyMlbxXzXl7xEYuU15IamoGj",
      "include_colab_link": true
    },
    "kernelspec": {
      "name": "python3",
      "display_name": "Python 3"
    },
    "language_info": {
      "name": "python"
    }
  },
  "cells": [
    {
      "cell_type": "markdown",
      "metadata": {
        "id": "view-in-github",
        "colab_type": "text"
      },
      "source": [
        "<a href=\"https://colab.research.google.com/github/LaraNegri/EntregasPDI/blob/main/TrabajoFinal_v5.ipynb\" target=\"_parent\"><img src=\"https://colab.research.google.com/assets/colab-badge.svg\" alt=\"Open In Colab\"/></a>"
      ]
    },
    {
      "cell_type": "markdown",
      "source": [
        "Importo librerías"
      ],
      "metadata": {
        "id": "ug2V1Tx93L1G"
      }
    },
    {
      "cell_type": "code",
      "execution_count": null,
      "metadata": {
        "id": "hASBcJCA2pa2"
      },
      "outputs": [],
      "source": [
        "import matplotlib.pyplot as plt\n",
        "import numpy as np\n",
        "import imageio as io"
      ]
    },
    {
      "cell_type": "markdown",
      "source": [
        "Funciones a utilizar"
      ],
      "metadata": {
        "id": "Cv4r6nTP3ObO"
      }
    },
    {
      "cell_type": "code",
      "source": [
        "# Función para leer una imagen y tenerla como Array numpy sin limitación uint8\n",
        "def get_image(rute):\n",
        "  im = io.imread(rute)\n",
        "  im = im.astype(np.float)\n",
        "  return im\n",
        "\n",
        "#función para pasar una imagen de RGBA a YIQ\n",
        "def rgbatoyiq(im):\n",
        "    Shape = im.shape\n",
        "    im_YIQ = np.zeros((Shape[0], Shape[1], 3))\n",
        "    [im_YIQ[:,:,0], im_YIQ[:,:,1], im_YIQ[:,:,2]] = (np.matmul(np.array([[0.299, 0.587, 0.114],\n",
        "              [0.595716, -0.274453, -0.321263],\n",
        "              [0.211456, -0.522591, 0.311135]]), (np.array([im[:,:,0], im[:,:,1], im[:,:,2]])/255).transpose(1,0,2))).transpose(1,0,2)\n",
        "    im_YIQ[:,:,0] = np.clip(im_YIQ[:,:,0], 0, 1)\n",
        "    im_YIQ[:,:,1] = np.clip(im_YIQ[:,:,1], -0.5957, 0.5957)\n",
        "    im_YIQ[:,:,2] = np.clip(im_YIQ[:,:,2], -0.5226, 0.5226)\n",
        "    return im_YIQ\n",
        "\n",
        "def yiqtorgb(im):\n",
        "    Shape = im.shape\n",
        "    im_RGB = np.zeros((Shape[0], Shape[1], 3))\n",
        "    [im_RGB[:,:,0], im_RGB[:,:,1], im_RGB[:,:,2]] = 255*(np.matmul(np.array([[1, 0.9663, 0.6210],\n",
        "              [1, -0.2721, -0.6474],\n",
        "              [1, -1.1070, 1.7046]]), (np.array([im[:,:,0], im[:,:,1], im[:,:,2]])).transpose(1,0,2))).transpose(1,0,2)\n",
        "    im_RGB = im_RGB.astype(np.uint8)\n",
        "    im_RGB[:,:,:] = np.clip(im_RGB[:,:,:], 0, 255)\n",
        "    return im_RGB\n",
        "\n",
        "def pixel_analisis(im, i_values, j_values, gotas_list, rcm_gotas, perimetros_tot_gota):\n",
        "    nro_neighbour = []\n",
        "\n",
        "    #Ahora que la imagen está binarizada, debo ubicar dónde están los píxeles con luminancia 1 (es decir, mis manchas)\n",
        "    first_pix_xy = (np.where(im_YIQ_new == 1)[0][0], np.where(im_YIQ_new == 1)[1][0]) #Coordenadas de un pixel aleatorio donde Y = 1\n",
        "    \n",
        "    #¿Qué luminancia tienen sus vecinos?\n",
        "\n",
        "    pixels_coord_list = [] #lista con coordenadas de puntos con Y = 1\n",
        "    checked = [] #los pixeles que voy chequeando les asigno valor 1\n",
        "    tmp_pixels_coord_list = [] #hago una lista temporal donde guardo SOLO los pixeles que faltan chequear. Los que ya chequee\n",
        "    #aparecen en pixels_coord_list, pero los borro de esta, para no chequear dos veces lo mismo\n",
        "    \n",
        "    pixels_coord_list.append([first_pix_xy[0], first_pix_xy[1]])\n",
        "    tmp_pixels_coord_list.append([first_pix_xy[0], first_pix_xy[1]])\n",
        "    \n",
        "    while len(checked) < len(pixels_coord_list): #cuando ya chequee todos los pixeles, termina\n",
        "     \n",
        "      for pixel in tmp_pixels_coord_list:\n",
        "        vecinos = -1\n",
        "        for i in i_values:\n",
        "          for j in j_values:\n",
        "            x, y = pixel[0]+i, pixel[1]+j\n",
        "            currPix = [x, y]\n",
        "            if im_YIQ_new[x, y, 0]==1 and currPix not in pixels_coord_list:\n",
        "              pixels_coord_list.append(currPix)\n",
        "              tmp_pixels_coord_list.append(currPix)\n",
        "            if im_YIQ[x, y, 0]==1:\n",
        "                vecinos += 1\n",
        "        \n",
        "        nro_neighbour.append(vecinos) \n",
        "        checked.append(1) #los pixeles que pasaron por este for, ya fueron chequeados\n",
        "        tmp_pixels_coord_list.remove(tmp_pixels_coord_list[tmp_pixels_coord_list.index(pixel)])\n",
        "        im_YIQ_new[pixel[0], pixel[1]] = 0 #los que ya chequee, les pongo luminancia = 0, para ya sacarlos de la imagen\n",
        "        \n",
        "    perimetro_n_gota = len(nro_neighbour) - nro_neighbour.count(8) #sumo todos los pixeles menos los que tienen 8 vecinos\n",
        "    \n",
        "    #Los pixeles con 8 vecinos no están en el borde de la gota, están adentro\n",
        "\n",
        "    perimetros_tot_gota.append(perimetro_n_gota) #perimetro de cada gota\n",
        "    \n",
        "    gotas_list.append(pixels_coord_list) #Hago un array que contenga un array con las coordenadas de los pixeles de cada gota\n",
        "    \n",
        "    im_RGB = yiqtorgb(im_YIQ_new) #para plotear la imagen paso a RGB\n",
        "    \n",
        "    plt.imshow(im_RGB, 'gray') \n",
        "    plt.show()\n",
        "    \n",
        "    return nro_neighbour, perimetro_n_gota, pixels_coord_list\n"
      ],
      "metadata": {
        "id": "pY-1xm1i3TrU"
      },
      "execution_count": null,
      "outputs": []
    },
    {
      "cell_type": "code",
      "source": [
        "#Leo la imagen\n",
        "im = get_image(r'C:\\Users\\laran\\Documents\\Física\\Procesamiento de Imagenes\\PDI_Datos_AFM_Gotas\\AFM_Gotas_png\\imagen_prueba2.png')\n",
        "# im = get_image('/content/drive/MyDrive/Imagenes PDI/imagen_prueba2.jpg') #Esto lo uso en colab\n",
        "\n",
        "im_YIQ = rgbatoyiq(im) #la convierto a YIQ\n",
        "\n",
        "#Binarizo la imagen\n",
        "im_YIQ = np.where(im_YIQ <= 0.5, 0, 1)\n",
        "\n",
        "plt.imshow(im) \n",
        "plt.show()\n",
        "\n",
        "im_YIQ_new = np.copy(im_YIQ) # paso por VALOR no por referencia (sino las variables son SIEMPRE iguales)\n",
        "\n",
        "gotas_list = [] #la inicializo fuera del while pq sino cada vez que borro una gota, esto vuelve a cero, y no me sirve\n",
        "perimetros_tot_gota =[] #también tengo que inizializar afuera del while, sino se me borra la info\n",
        "i_values = [-1, 0, 1]\n",
        "j_values = [-1, 0, 1]\n",
        "rcm_gotas = []"
      ],
      "metadata": {
        "id": "4LedSuWc3b7M"
      },
      "execution_count": null,
      "outputs": []
    },
    {
      "cell_type": "markdown",
      "source": [
        "Analizo los píxeles"
      ],
      "metadata": {
        "id": "2jVAYBH-3eTt"
      }
    },
    {
      "cell_type": "code",
      "source": [
        "while im_YIQ_new[:,:,0].any() == 1: #el código termina cuando ya no tengo pixeles blancos en la imagen (no hay más manchas)\n",
        "    \n",
        "    pixel_analisis(im, i_values, j_values, gotas_list, rcm_gotas, perimetros_tot_gota)"
      ],
      "metadata": {
        "id": "bZs4Gsdj3gBn"
      },
      "execution_count": null,
      "outputs": []
    },
    {
      "cell_type": "markdown",
      "source": [
        "Terminado el análisis de píxeles, calculo propiedades geométricas de las gotas"
      ],
      "metadata": {
        "id": "8xs5zCnP3gef"
      }
    },
    {
      "cell_type": "code",
      "source": [
        "#Cálculo y ploteo del perímetro de cada gota\n",
        "plot1 = plt.figure(1)\n",
        "plt.hist(perimetros_tot_gota, bins='auto')  #mi histograma está en el TP4 en colab\n",
        "plt.title(\"Histograma perímetro de gotas\")\n",
        "    \n",
        "nro_gotas = len(gotas_list) #cuento el nro de gotas\n",
        "\n",
        "#Cálculo el área y rcm de cada gota\n",
        "area_gotas = [None]*nro_gotas #creo una matriz del mismo tamaño que nro_gotas para poder recorrerla en el for que sigue\n",
        "rcm_gotas = [None]*nro_gotas\n",
        "\n",
        "for gota in range(0, len(gotas_list)):\n",
        "    area_gotas[gota] = len(gotas_list[gota]) #creo una matriz con el área de cada gota para despues poder hacer el histograma de áreas\n",
        "\n",
        "    rcm_gotas[gota] = np.mean(np.array(gotas_list[gota]), axis=0) #array con el CM de cada gota\n",
        "\n",
        "rcm_gotas = np.array(rcm_gotas) #lo convierto en array para poder plotear fácil\n",
        "    \n",
        "#Ploteo el área de cada gota\n",
        "plot2 = plt.figure(2)\n",
        "plt.hist(area_gotas, bins='auto')  #mi histograma está en el TP4 en colab\n",
        "plt.title(\"Histograma área de gotas\")\n",
        "\n",
        "#Ploteo el CM de cada gota\n",
        "plot3 = plt.figure(3)\n",
        "plt.plot(rcm_gotas[:,0], rcm_gotas[:,1], 'ro')\n",
        "plt.axis([0, 500, 0, 500])\n",
        "plt.show()"
      ],
      "metadata": {
        "id": "4itmiOZh3oE0"
      },
      "execution_count": null,
      "outputs": []
    }
  ]
}